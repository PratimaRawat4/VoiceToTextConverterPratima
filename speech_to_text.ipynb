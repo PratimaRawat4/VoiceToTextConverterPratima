{
 "cells": [
  {
   "cell_type": "markdown",
   "id": "b67de6bd",
   "metadata": {},
   "source": [
    "# Speech-to-Text Model\n",
    "This notebook captures speech and converts it to text using SpeechRecognition."
   ]
  },
  {
   "cell_type": "code",
   "execution_count": null,
   "id": "ad44c007",
   "metadata": {},
   "outputs": [],
   "source": [
    "\n",
    "!pip install speechrecognition pyaudio\n"
   ]
  },
  {
   "cell_type": "code",
   "execution_count": null,
   "id": "40dc5606",
   "metadata": {},
   "outputs": [],
   "source": [
    "\n",
    "import speech_recognition as sr\n",
    "import pickle\n"
   ]
  },
  {
   "cell_type": "code",
   "execution_count": null,
   "id": "3e23f548",
   "metadata": {},
   "outputs": [],
   "source": [
    "\n",
    "def speech_to_text():\n",
    "    recognizer = sr.Recognizer()\n",
    "    with sr.Microphone() as source:\n",
    "        print(\"Listening...\")\n",
    "        audio = recognizer.listen(source)\n",
    "    \n",
    "    try:\n",
    "        text = recognizer.recognize_google(audio)\n",
    "        print(\"Recognized Text:\", text)\n",
    "        return text\n",
    "    except sr.UnknownValueError:\n",
    "        print(\"Could not understand the audio.\")\n",
    "        return None\n",
    "    except sr.RequestError:\n",
    "        print(\"Speech recognition service error.\")\n",
    "        return None\n"
   ]
  },
  {
   "cell_type": "code",
   "execution_count": null,
   "id": "6bdda3f4",
   "metadata": {},
   "outputs": [],
   "source": [
    "\n",
    "with open(\"speech_model.pkl\", \"wb\") as f:\n",
    "    pickle.dump(speech_to_text, f)\n",
    "print(\"Model saved as 'speech_model.pkl'\")\n"
   ]
  },
  {
   "cell_type": "code",
   "execution_count": null,
   "id": "d17aeeb4",
   "metadata": {},
   "outputs": [],
   "source": [
    "\n",
    "with open(\"speech_model.pkl\", \"rb\") as f:\n",
    "    loaded_model = pickle.load(f)\n",
    "print(\"Model loaded successfully!\")\n"
   ]
  },
  {
   "cell_type": "code",
   "execution_count": null,
   "id": "01d493c2",
   "metadata": {},
   "outputs": [],
   "source": [
    "\n",
    "recognized_text = loaded_model()\n",
    "print(\"Final Output:\", recognized_text)\n"
   ]
  }
 ],
 "metadata": {},
 "nbformat": 4,
 "nbformat_minor": 5
}
